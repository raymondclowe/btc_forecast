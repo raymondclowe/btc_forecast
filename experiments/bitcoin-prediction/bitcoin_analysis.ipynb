{
 "cells": [
  {
   "cell_type": "markdown",
   "metadata": {},
   "source": [
    "# Bitcoin Price Prediction with TimeGPT\n",
    "\n",
    "This notebook provides an interactive exploration of Bitcoin price prediction using TimeGPT.\n",
    "\n",
    "## Setup\n",
    "\n",
    "First, install the required packages and import libraries."
   ]
  },
  {
   "cell_type": "code",
   "execution_count": null,
   "metadata": {},
   "outputs": [],
   "source": [
    "# Install required packages\n",
    "!pip install nixtla pandas matplotlib seaborn scikit-learn python-dotenv -q"
   ]
  },
  {
   "cell_type": "code",
   "execution_count": null,
   "metadata": {},
   "outputs": [],
   "source": [
    "import os\n",
    "import sys\n",
    "import pandas as pd\n",
    "import numpy as np\n",
    "import matplotlib.pyplot as plt\n",
    "import seaborn as sns\n",
    "from datetime import datetime, timedelta\n",
    "from nixtla import NixtlaClient\n",
    "from dotenv import load_dotenv\n",
    "\n",
    "# Add src to path\n",
    "sys.path.insert(0, 'src')\n",
    "\n",
    "from data_utils import load_bitcoin_data, add_derived_features\n",
    "from backtesting import BitcoinBacktester\n",
    "from analysis import BitcoinAnalyzer\n",
    "\n",
    "# Set style\n",
    "sns.set_style('whitegrid')\n",
    "plt.rcParams['figure.figsize'] = (14, 6)\n",
    "\n",
    "# Load environment variables\n",
    "load_dotenv()\n",
    "\n",
    "print(\"✓ Libraries imported successfully\")"
   ]
  },
  {
   "cell_type": "markdown",
   "metadata": {},
   "source": [
    "## Initialize TimeGPT Client\n",
    "\n",
    "Set your API key (get one at https://dashboard.nixtla.io)"
   ]
  },
  {
   "cell_type": "code",
   "execution_count": null,
   "metadata": {},
   "outputs": [],
   "source": [
    "# Set your API key here or use environment variable\n",
    "api_key = os.environ.get('NIXTLA_API_KEY', 'your-api-key-here')\n",
    "\n",
    "client = NixtlaClient(api_key=api_key)\n",
    "\n",
    "print(\"✓ TimeGPT client initialized\")"
   ]
  },
  {
   "cell_type": "markdown",
   "metadata": {},
   "source": [
    "## Load Bitcoin Price Data"
   ]
  },
  {
   "cell_type": "code",
   "execution_count": null,
   "metadata": {},
   "outputs": [],
   "source": [
    "# Load Bitcoin price history\n",
    "df = load_bitcoin_data()\n",
    "\n",
    "print(f\"Loaded {len(df)} days of Bitcoin price history\")\n",
    "print(f\"Date range: {df['ds'].min()} to {df['ds'].max()}\")\n",
    "print(f\"Price range: ${df['y'].min():.2f} to ${df['y'].max():.2f}\")\n",
    "\n",
    "df.head()"
   ]
  },
  {
   "cell_type": "markdown",
   "metadata": {},
   "source": [
    "## Visualize Historical Prices"
   ]
  },
  {
   "cell_type": "code",
   "execution_count": null,
   "metadata": {},
   "outputs": [],
   "source": [
    "# Plot full history\n",
    "plt.figure(figsize=(14, 6))\n",
    "plt.plot(df['ds'], df['y'], linewidth=1.5)\n",
    "plt.xlabel('Date', fontsize=12)\n",
    "plt.ylabel('Price (USD)', fontsize=12)\n",
    "plt.title('Bitcoin Price History', fontsize=14, fontweight='bold')\n",
    "plt.grid(True, alpha=0.3)\n",
    "plt.tight_layout()\n",
    "plt.show()"
   ]
  },
  {
   "cell_type": "markdown",
   "metadata": {},
   "source": [
    "## Quick Forecast Example\n",
    "\n",
    "Let's make a simple forecast for the next 30 days using the most recent data."
   ]
  },
  {
   "cell_type": "code",
   "execution_count": null,
   "metadata": {},
   "outputs": [],
   "source": [
    "# Use last 365 days for training\n",
    "train_df = df.tail(365).copy()\n",
    "\n",
    "# Forecast next 30 days with confidence intervals\n",
    "forecast_df = client.forecast(\n",
    "    df=train_df,\n",
    "    h=30,\n",
    "    level=[80, 95]\n",
    ")\n",
    "\n",
    "forecast_df.head()"
   ]
  },
  {
   "cell_type": "code",
   "execution_count": null,
   "metadata": {},
   "outputs": [],
   "source": [
    "# Plot the forecast\n",
    "client.plot(train_df, forecast_df, level=[80, 95])"
   ]
  },
  {
   "cell_type": "markdown",
   "metadata": {},
   "source": [
    "## Backtesting Analysis\n",
    "\n",
    "Now let's perform a backtesting analysis to evaluate prediction accuracy."
   ]
  },
  {
   "cell_type": "code",
   "execution_count": null,
   "metadata": {},
   "outputs": [],
   "source": [
    "# Initialize backtester\n",
    "backtester = BitcoinBacktester(client, df)\n",
    "analyzer = BitcoinAnalyzer()\n",
    "\n",
    "print(\"✓ Backtester initialized\")"
   ]
  },
  {
   "cell_type": "markdown",
   "metadata": {},
   "source": [
    "### Test Recent Period (Last 90 days)"
   ]
  },
  {
   "cell_type": "code",
   "execution_count": null,
   "metadata": {},
   "outputs": [],
   "source": [
    "# Define test period\n",
    "max_date = df['ds'].max()\n",
    "start_date = (max_date - timedelta(days=90)).strftime('%Y-%m-%d')\n",
    "end_date = max_date.strftime('%Y-%m-%d')\n",
    "\n",
    "print(f\"Backtesting period: {start_date} to {end_date}\")\n",
    "\n",
    "# Run backtest\n",
    "results = backtester.backtest_period(\n",
    "    start_date=start_date,\n",
    "    end_date=end_date,\n",
    "    horizon=1,\n",
    "    window_size=180,\n",
    "    step_size=7,\n",
    "    level=[80, 95]\n",
    ")\n",
    "\n",
    "print(f\"\\nGenerated {len(results)} predictions\")\n",
    "results.head()"
   ]
  },
  {
   "cell_type": "markdown",
   "metadata": {},
   "source": [
    "### Calculate Performance Metrics"
   ]
  },
  {
   "cell_type": "code",
   "execution_count": null,
   "metadata": {},
   "outputs": [],
   "source": [
    "# Calculate metrics\n",
    "metrics = backtester.calculate_metrics(results)\n",
    "directional_metrics = backtester.evaluate_directional_accuracy(results)\n",
    "\n",
    "print(\"Performance Metrics:\")\n",
    "print(f\"  MAE: ${metrics['mae']:.2f}\")\n",
    "print(f\"  RMSE: ${metrics['rmse']:.2f}\")\n",
    "print(f\"  MAPE: {metrics['mape']:.2f}%\")\n",
    "print(f\"  80% Coverage: {metrics.get('coverage_80', 0):.2%}\")\n",
    "print(f\"  95% Coverage: {metrics.get('coverage_95', 0):.2%}\")\n",
    "print(\"\\nDirectional Accuracy:\")\n",
    "print(f\"  Accuracy: {directional_metrics['accuracy']:.2%}\")\n",
    "print(f\"  Precision: {directional_metrics['precision']:.2%}\")\n",
    "print(f\"  Recall: {directional_metrics['recall']:.2%}\")\n",
    "print(f\"  F1 Score: {directional_metrics['f1_score']:.2%}\")"
   ]
  },
  {
   "cell_type": "markdown",
   "metadata": {},
   "source": [
    "### Visualize Results"
   ]
  },
  {
   "cell_type": "code",
   "execution_count": null,
   "metadata": {},
   "outputs": [],
   "source": [
    "# Plot forecast vs actual\n",
    "analyzer.plot_forecast_vs_actual(\n",
    "    results,\n",
    "    title=\"Bitcoin Price: Forecast vs Actual (Recent Period)\"\n",
    ")\n",
    "plt.show()"
   ]
  },
  {
   "cell_type": "code",
   "execution_count": null,
   "metadata": {},
   "outputs": [],
   "source": [
    "# Plot error distribution\n",
    "analyzer.plot_error_distribution(\n",
    "    results,\n",
    "    title=\"Forecast Error Distribution (Recent Period)\"\n",
    ")\n",
    "plt.show()"
   ]
  },
  {
   "cell_type": "code",
   "execution_count": null,
   "metadata": {},
   "outputs": [],
   "source": [
    "# Plot performance over time\n",
    "analyzer.plot_performance_over_time(\n",
    "    results,\n",
    "    title=\"Forecast Performance Over Time (Recent Period)\"\n",
    ")\n",
    "plt.show()"
   ]
  },
  {
   "cell_type": "markdown",
   "metadata": {},
   "source": [
    "## Test Different Horizons\n",
    "\n",
    "Let's compare 1-day, 7-day, and 30-day forecasts."
   ]
  },
  {
   "cell_type": "code",
   "execution_count": null,
   "metadata": {},
   "outputs": [],
   "source": [
    "horizons = [1, 7, 30]\n",
    "horizon_results = {}\n",
    "\n",
    "for h in horizons:\n",
    "    print(f\"\\nTesting {h}-day forecast...\")\n",
    "    \n",
    "    results_h = backtester.backtest_period(\n",
    "        start_date=start_date,\n",
    "        end_date=end_date,\n",
    "        horizon=h,\n",
    "        window_size=365,\n",
    "        step_size=h,\n",
    "        level=[80, 95]\n",
    "    )\n",
    "    \n",
    "    if len(results_h) > 0:\n",
    "        metrics_h = backtester.calculate_metrics(results_h)\n",
    "        horizon_results[f'{h}-day'] = metrics_h\n",
    "        print(f\"  MAPE: {metrics_h['mape']:.2f}%\")\n",
    "        print(f\"  Predictions: {len(results_h)}\")"
   ]
  },
  {
   "cell_type": "code",
   "execution_count": null,
   "metadata": {},
   "outputs": [],
   "source": [
    "# Compare horizons\n",
    "comparison_df = pd.DataFrame(horizon_results).T\n",
    "comparison_df[['mae', 'rmse', 'mape']].plot(kind='bar', figsize=(12, 6))\n",
    "plt.title('Performance by Forecast Horizon', fontsize=14, fontweight='bold')\n",
    "plt.xlabel('Forecast Horizon', fontsize=12)\n",
    "plt.ylabel('Error', fontsize=12)\n",
    "plt.legend(['MAE (USD)', 'RMSE (USD)', 'MAPE (%)'])\n",
    "plt.xticks(rotation=0)\n",
    "plt.grid(True, alpha=0.3)\n",
    "plt.tight_layout()\n",
    "plt.show()"
   ]
  },
  {
   "cell_type": "markdown",
   "metadata": {},
   "source": [
    "## Explore Specific Predictions\n",
    "\n",
    "Let's look at individual predictions in detail."
   ]
  },
  {
   "cell_type": "code",
   "execution_count": null,
   "metadata": {},
   "outputs": [],
   "source": [
    "# Show predictions with largest errors\n",
    "top_errors = results.nlargest(5, 'abs_error')[[\n",
    "    'forecast_date', 'actual', 'predicted', 'error', 'abs_pct_error'\n",
    "]]\n",
    "\n",
    "print(\"Top 5 Predictions with Largest Errors:\")\n",
    "print(top_errors)"
   ]
  },
  {
   "cell_type": "code",
   "execution_count": null,
   "metadata": {},
   "outputs": [],
   "source": [
    "# Show predictions with smallest errors\n",
    "top_accurate = results.nsmallest(5, 'abs_error')[[\n",
    "    'forecast_date', 'actual', 'predicted', 'error', 'abs_pct_error'\n",
    "]]\n",
    "\n",
    "print(\"Top 5 Most Accurate Predictions:\")\n",
    "print(top_accurate)"
   ]
  },
  {
   "cell_type": "markdown",
   "metadata": {},
   "source": [
    "## Conclusions\n",
    "\n",
    "Based on the analysis:\n",
    "\n",
    "1. **Directional Accuracy**: TimeGPT can predict price direction with varying accuracy\n",
    "2. **Magnitude Predictions**: Confidence intervals provide useful uncertainty estimates\n",
    "3. **Horizon Impact**: Shorter horizons generally perform better\n",
    "4. **Market Conditions**: Performance varies across different market regimes\n",
    "\n",
    "### Recommended Use Cases:\n",
    "\n",
    "- Short-term trend analysis (1-7 days)\n",
    "- Risk management using confidence intervals\n",
    "- Complementary signal for trading strategies\n",
    "- Volatility assessment\n",
    "\n",
    "### Limitations:\n",
    "\n",
    "- Past performance doesn't guarantee future results\n",
    "- Bitcoin is influenced by many external factors\n",
    "- Should be combined with other analysis methods"
   ]
  }
 ],
 "metadata": {
  "kernelspec": {
   "display_name": "Python 3",
   "language": "python",
   "name": "python3"
  },
  "language_info": {
   "codemirror_mode": {
    "name": "ipython",
    "version": 3
   },
   "file_extension": ".py",
   "mimetype": "text/x-python",
   "name": "python",
   "nbconvert_exporter": "python",
   "pygments_lexer": "ipython3",
   "version": "3.9.0"
  }
 },
 "nbformat": 4,
 "nbformat_minor": 4
}
